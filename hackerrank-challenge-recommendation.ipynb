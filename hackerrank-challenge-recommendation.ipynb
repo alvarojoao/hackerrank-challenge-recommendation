{
 "cells": [
  {
   "cell_type": "code",
   "execution_count": 1,
   "metadata": {
    "collapsed": true
   },
   "outputs": [],
   "source": [
    "import pandas as pd\n",
    "import numpy as np\n",
    "import csv as csv\n",
    "import math\n",
    "import matplotlib.pyplot as plt\n",
    "from sklearn.metrics import classification_report, accuracy_score\n",
    "from sklearn.cross_validation import train_test_split\n",
    "import time\n",
    "from datetime import date\n",
    "import datetime\n",
    "%matplotlib inline\n",
    "\n",
    "def saveFileForSubmission(predicted_lables,custonFileName='submission.csv',customHeader=''):\n",
    "    result = np.c_[predicted_lables]\n",
    "\n",
    "    np.savetxt(custonFileName, \n",
    "           result.astype(int), \n",
    "           delimiter=',', \n",
    "           header = customHeader, \n",
    "           comments = '', \n",
    "           fmt='%u')"
   ]
  },
  {
   "cell_type": "code",
   "execution_count": 2,
   "metadata": {
    "collapsed": true
   },
   "outputs": [],
   "source": [
    "def preProcessChallenge(dataFrame):\n",
    "    cP = challenges.groupby([\"challenge_id\",\"domain\"]).size().reset_index(name=\"Times\")\\\n",
    "        .pivot(index='challenge_id', columns='domain', values='Times').reset_index().drop([\"challenge_id\"],axis=1)\n",
    "    cP2 = challenges.groupby([\"challenge_id\",\"subdomain\"]).size().reset_index(name=\"Times\")\\\n",
    "        .pivot(index='challenge_id', columns='subdomain', values='Times').reset_index().drop([\"challenge_id\"],axis=1)\n",
    "    newC = challenges.groupby([\"challenge_id\"]).size().reset_index(name=\"Times\")\n",
    "    c = pd.concat([newC,cP,cP2], axis=1)\n",
    "    challengesDf = c.fillna(0)\n",
    "    challengesDf = challengesDf.drop(['challenge_id'],axis=1)\n",
    "    return challengesDf,newC\n",
    "\n",
    "def preProcessHackers(dataFrame):\n",
    "    g = submissions.groupby([\"hacker_id\",\"contest_id\"]).size().reset_index(name=\"Times\")\n",
    "    gP = submissions.groupby([\"hacker_id\",\"contest_id\"]).size().reset_index(name=\"Times\")\\\n",
    "        .pivot(index='hacker_id', columns='contest_id', values='Times').reset_index().drop([\"hacker_id\"],axis=1)\n",
    "    gP = gP.rename(columns = lambda x : 'contest_id_' + x)\n",
    "    gP2 = submissions.groupby([\"hacker_id\",\"challenge_id\"]).size().reset_index(name=\"Times\")\\\n",
    "        .pivot(index='hacker_id', columns='challenge_id', values='Times').reset_index().drop([\"hacker_id\"],axis=1)\n",
    "    gP2 = gP2.rename(columns = lambda x : 'challenge_id_' + x)\n",
    "    gP3 = submissions.groupby([\"hacker_id\",\"language\"]).size().reset_index(name=\"Times\")\\\n",
    "        .pivot(index='hacker_id', columns='language', values='Times').reset_index().drop([\"hacker_id\"],axis=1)\n",
    "    newT = submissions.groupby([\"hacker_id\"]).size().reset_index(name=\"Times\")\n",
    "    t = pd.concat([newT,gP,gP2,gP3], axis=1)\n",
    "    usersDf = t.fillna(0)\n",
    "    usersDf = usersDf.drop(['hacker_id'],axis=1)\n",
    "    return usersDf,newT\n",
    "\n",
    "    "
   ]
  },
  {
   "cell_type": "code",
   "execution_count": 4,
   "metadata": {
    "collapsed": true
   },
   "outputs": [],
   "source": [
    "challenges = pd.read_csv('challenges.csv', header=0)  \n",
    "submissions = pd.read_csv('submissions.csv', header=0)  \n",
    "\n",
    "challengesDf,challengesIds = preProcessChallenge(challenges)\n",
    "hackersDf,hackersIds = preProcessHackers(submissions)"
   ]
  },
  {
   "cell_type": "code",
   "execution_count": 5,
   "metadata": {
    "collapsed": true
   },
   "outputs": [],
   "source": [
    "from sklearn.metrics import  pairwise\n",
    "\n",
    "challengeValues = challengesDf.values\n",
    "challengesDistances = pairwise.linear_kernel(challengeValues)\n",
    "\n",
    "\n",
    "hackersValues = hackersDf.values\n",
    "hackersDistances = pairwise.linear_kernel(hackersValues)"
   ]
  },
  {
   "cell_type": "code",
   "execution_count": 49,
   "metadata": {
    "collapsed": false
   },
   "outputs": [],
   "source": [
    "def getChallengeSubmitedByHacker(hackerDataFrame,hackerIndex):\n",
    "    dictOfChallenges =hackerDataFrame.filter(regex=(\"challenge_id_.*\")).iloc[hackerIndex].to_dict()\n",
    "    dictOfChallengesSubmitedWitheReplace = dict([ (k.replace('challenge_id_',\"\"),v) for k,v in dictOfChallenges.items() if v>0])\n",
    "    #listOfChallengeOrdered=sorted(dictOfChallengesSubmitedWitheReplace.items(),key=lambda x:x[1],reverse=True)\n",
    "    return dictOfChallengesSubmitedWitheReplace\n",
    "\n",
    "def getIntersectAndDisjointChallenges(me,neigbor):\n",
    "    intersect = []\n",
    "    disjoint = []\n",
    "    me_found_id = []\n",
    "    for k,v in neigbor:\n",
    "        has = False\n",
    "        for i,(k2,v2) in enumerate(me):\n",
    "            if k==k2:\n",
    "                intersect.append((k,v+v2))\n",
    "                has =True\n",
    "                me_found_id.append(k2)\n",
    "        if not has:\n",
    "            disjoint.append((k,v))\n",
    "    disjoint = disjoint+[(k,v) for (k,v) in me if not k in me_found_id]\n",
    "    disjoint = sorted(disjoint,key=lambda x:x[1],reverse=True)\n",
    "    intersect = sorted(intersect,key=lambda x:x[1],reverse=True)\n",
    "    return intersect,disjoint\n",
    "\n",
    "def getNSimilars(distancesMatrix,meIndex,N=5):\n",
    "    return np.argsort(-distancesMatrix[meIndex])[0:N]\n",
    "\n",
    "def getChallengesIdByListIndex(challengesDataFrameWithIndex,challengeListIndex,challengeIdLabel):\n",
    "    return challengesDataFrameWithIndex.iloc[challengeListIndex][challengeIdLabel].tolist()\n",
    "\n",
    "def getChallengesIndexByListId(challengesDataFrameWithIdndex,challengeListId,challengeIdLabel):\n",
    "    return challengesDataFrameWithIdndex.loc[challengesDataFrameWithIdndex[challengeIdLabel].isin(challengeListId)].index.tolist()\n"
   ]
  },
  {
   "cell_type": "code",
   "execution_count": 50,
   "metadata": {
    "collapsed": false
   },
   "outputs": [
    {
     "name": "stderr",
     "output_type": "stream",
     "text": [
      "Exception KeyboardInterrupt in 'zmq.backend.cython.message.Frame.__dealloc__' ignored\n"
     ]
    },
    {
     "ename": "KeyboardInterrupt",
     "evalue": "",
     "output_type": "error",
     "traceback": [
      "\u001b[1;31m---------------------------------------------------------------------------\u001b[0m",
      "\u001b[1;31mKeyboardInterrupt\u001b[0m                         Traceback (most recent call last)",
      "\u001b[1;32m<ipython-input-50-2c964e9754ca>\u001b[0m in \u001b[0;36m<module>\u001b[1;34m()\u001b[0m\n\u001b[0;32m     12\u001b[0m                 \u001b[0mallChallengesBySimilars\u001b[0m\u001b[1;33m[\u001b[0m\u001b[0mchallengeId\u001b[0m\u001b[1;33m]\u001b[0m \u001b[1;33m=\u001b[0m \u001b[0mallChallengesBySimilars\u001b[0m\u001b[1;33m[\u001b[0m\u001b[0mchallengeId\u001b[0m\u001b[1;33m]\u001b[0m\u001b[1;33m+\u001b[0m \u001b[0mvalue\u001b[0m\u001b[1;33m\u001b[0m\u001b[0m\n\u001b[0;32m     13\u001b[0m     \u001b[0mallChallengesBySimilarsOrdered\u001b[0m \u001b[1;33m=\u001b[0m \u001b[0msorted\u001b[0m\u001b[1;33m(\u001b[0m\u001b[0mallChallengesBySimilars\u001b[0m\u001b[1;33m.\u001b[0m\u001b[0mitems\u001b[0m\u001b[1;33m(\u001b[0m\u001b[1;33m)\u001b[0m\u001b[1;33m,\u001b[0m\u001b[0mkey\u001b[0m\u001b[1;33m=\u001b[0m\u001b[1;32mlambda\u001b[0m \u001b[0mx\u001b[0m\u001b[1;33m:\u001b[0m\u001b[0mx\u001b[0m\u001b[1;33m[\u001b[0m\u001b[1;36m1\u001b[0m\u001b[1;33m]\u001b[0m\u001b[1;33m,\u001b[0m\u001b[0mreverse\u001b[0m\u001b[1;33m=\u001b[0m\u001b[0mTrue\u001b[0m\u001b[1;33m)\u001b[0m\u001b[1;33m\u001b[0m\u001b[0m\n\u001b[1;32m---> 14\u001b[1;33m     \u001b[0mlistOfChallengesbyUserOrdered\u001b[0m \u001b[1;33m=\u001b[0m \u001b[0msorted\u001b[0m\u001b[1;33m(\u001b[0m\u001b[0mgetChallengeSubmitedByHacker\u001b[0m\u001b[1;33m(\u001b[0m\u001b[0mhackersDf\u001b[0m\u001b[1;33m,\u001b[0m\u001b[0mi\u001b[0m\u001b[1;33m)\u001b[0m\u001b[1;33m.\u001b[0m\u001b[0mitems\u001b[0m\u001b[1;33m(\u001b[0m\u001b[1;33m)\u001b[0m\u001b[1;33m,\u001b[0m\u001b[0mkey\u001b[0m\u001b[1;33m=\u001b[0m\u001b[1;32mlambda\u001b[0m \u001b[0mx\u001b[0m\u001b[1;33m:\u001b[0m\u001b[0mx\u001b[0m\u001b[1;33m[\u001b[0m\u001b[1;36m1\u001b[0m\u001b[1;33m]\u001b[0m\u001b[1;33m,\u001b[0m\u001b[0mreverse\u001b[0m\u001b[1;33m=\u001b[0m\u001b[0mTrue\u001b[0m\u001b[1;33m)\u001b[0m\u001b[1;33m\u001b[0m\u001b[0m\n\u001b[0m\u001b[0;32m     15\u001b[0m     \u001b[0mintersectChallenges\u001b[0m\u001b[1;33m,\u001b[0m\u001b[0mdisjointChallenges\u001b[0m \u001b[1;33m=\u001b[0m \u001b[0mgetIntersectAndDisjointChallenges\u001b[0m\u001b[1;33m(\u001b[0m\u001b[0mlistOfChallengesbyUserOrdered\u001b[0m\u001b[1;33m,\u001b[0m\u001b[0mallChallengesBySimilarsOrdered\u001b[0m\u001b[1;33m)\u001b[0m\u001b[1;33m\u001b[0m\u001b[0m\n\u001b[0;32m     16\u001b[0m     \u001b[0mresulbyChallenge\u001b[0m\u001b[1;33m[\u001b[0m\u001b[0mhackerId\u001b[0m\u001b[1;33m]\u001b[0m \u001b[1;33m=\u001b[0m \u001b[0mdisjointChallenges\u001b[0m\u001b[1;33m\u001b[0m\u001b[0m\n",
      "\u001b[1;32m<ipython-input-49-b3733fbc927b>\u001b[0m in \u001b[0;36mgetChallengeSubmitedByHacker\u001b[1;34m(hackerDataFrame, hackerIndex)\u001b[0m\n\u001b[0;32m      1\u001b[0m \u001b[1;32mdef\u001b[0m \u001b[0mgetChallengeSubmitedByHacker\u001b[0m\u001b[1;33m(\u001b[0m\u001b[0mhackerDataFrame\u001b[0m\u001b[1;33m,\u001b[0m\u001b[0mhackerIndex\u001b[0m\u001b[1;33m)\u001b[0m\u001b[1;33m:\u001b[0m\u001b[1;33m\u001b[0m\u001b[0m\n\u001b[1;32m----> 2\u001b[1;33m     \u001b[0mdictOfChallenges\u001b[0m \u001b[1;33m=\u001b[0m\u001b[0mhackerDataFrame\u001b[0m\u001b[1;33m.\u001b[0m\u001b[0mfilter\u001b[0m\u001b[1;33m(\u001b[0m\u001b[0mregex\u001b[0m\u001b[1;33m=\u001b[0m\u001b[1;33m(\u001b[0m\u001b[1;34m\"challenge_id_.*\"\u001b[0m\u001b[1;33m)\u001b[0m\u001b[1;33m)\u001b[0m\u001b[1;33m.\u001b[0m\u001b[0miloc\u001b[0m\u001b[1;33m[\u001b[0m\u001b[0mhackerIndex\u001b[0m\u001b[1;33m]\u001b[0m\u001b[1;33m.\u001b[0m\u001b[0mto_dict\u001b[0m\u001b[1;33m(\u001b[0m\u001b[1;33m)\u001b[0m\u001b[1;33m\u001b[0m\u001b[0m\n\u001b[0m\u001b[0;32m      3\u001b[0m     \u001b[0mdictOfChallengesSubmitedWitheReplace\u001b[0m \u001b[1;33m=\u001b[0m \u001b[0mdict\u001b[0m\u001b[1;33m(\u001b[0m\u001b[1;33m[\u001b[0m \u001b[1;33m(\u001b[0m\u001b[0mk\u001b[0m\u001b[1;33m.\u001b[0m\u001b[0mreplace\u001b[0m\u001b[1;33m(\u001b[0m\u001b[1;34m'challenge_id_'\u001b[0m\u001b[1;33m,\u001b[0m\u001b[1;34m\"\"\u001b[0m\u001b[1;33m)\u001b[0m\u001b[1;33m,\u001b[0m\u001b[0mv\u001b[0m\u001b[1;33m)\u001b[0m \u001b[1;32mfor\u001b[0m \u001b[0mk\u001b[0m\u001b[1;33m,\u001b[0m\u001b[0mv\u001b[0m \u001b[1;32min\u001b[0m \u001b[0mdictOfChallenges\u001b[0m\u001b[1;33m.\u001b[0m\u001b[0mitems\u001b[0m\u001b[1;33m(\u001b[0m\u001b[1;33m)\u001b[0m \u001b[1;32mif\u001b[0m \u001b[0mv\u001b[0m\u001b[1;33m>\u001b[0m\u001b[1;36m0\u001b[0m\u001b[1;33m]\u001b[0m\u001b[1;33m)\u001b[0m\u001b[1;33m\u001b[0m\u001b[0m\n\u001b[0;32m      4\u001b[0m     \u001b[1;31m#listOfChallengeOrdered=sorted(dictOfChallengesSubmitedWitheReplace.items(),key=lambda x:x[1],reverse=True)\u001b[0m\u001b[1;33m\u001b[0m\u001b[1;33m\u001b[0m\u001b[0m\n\u001b[0;32m      5\u001b[0m     \u001b[1;32mreturn\u001b[0m \u001b[0mdictOfChallengesSubmitedWitheReplace\u001b[0m\u001b[1;33m\u001b[0m\u001b[0m\n",
      "\u001b[1;32mC:\\Users\\alvaro.joao.silvino\\AppData\\Local\\Continuum\\Anaconda2\\lib\\site-packages\\pandas\\core\\generic.pyc\u001b[0m in \u001b[0;36mfilter\u001b[1;34m(self, items, like, regex, axis)\u001b[0m\n\u001b[0;32m   2395\u001b[0m             \u001b[0mmatcher\u001b[0m \u001b[1;33m=\u001b[0m \u001b[0mre\u001b[0m\u001b[1;33m.\u001b[0m\u001b[0mcompile\u001b[0m\u001b[1;33m(\u001b[0m\u001b[0mregex\u001b[0m\u001b[1;33m)\u001b[0m\u001b[1;33m\u001b[0m\u001b[0m\n\u001b[0;32m   2396\u001b[0m             return self.select(lambda x: matcher.search(str(x)) is not None,\n\u001b[1;32m-> 2397\u001b[1;33m                                axis=axis_name)\n\u001b[0m\u001b[0;32m   2398\u001b[0m         \u001b[1;32melse\u001b[0m\u001b[1;33m:\u001b[0m\u001b[1;33m\u001b[0m\u001b[0m\n\u001b[0;32m   2399\u001b[0m             \u001b[1;32mraise\u001b[0m \u001b[0mTypeError\u001b[0m\u001b[1;33m(\u001b[0m\u001b[1;34m'Must pass either `items`, `like`, or `regex`'\u001b[0m\u001b[1;33m)\u001b[0m\u001b[1;33m\u001b[0m\u001b[0m\n",
      "\u001b[1;32mC:\\Users\\alvaro.joao.silvino\\AppData\\Local\\Continuum\\Anaconda2\\lib\\site-packages\\pandas\\core\\generic.pyc\u001b[0m in \u001b[0;36mselect\u001b[1;34m(self, crit, axis)\u001b[0m\n\u001b[0;32m   1810\u001b[0m             \u001b[0mnew_axis\u001b[0m \u001b[1;33m=\u001b[0m \u001b[0maxis_values\u001b[0m\u001b[1;33m\u001b[0m\u001b[0m\n\u001b[0;32m   1811\u001b[0m \u001b[1;33m\u001b[0m\u001b[0m\n\u001b[1;32m-> 1812\u001b[1;33m         \u001b[1;32mreturn\u001b[0m \u001b[0mself\u001b[0m\u001b[1;33m.\u001b[0m\u001b[0mreindex\u001b[0m\u001b[1;33m(\u001b[0m\u001b[1;33m**\u001b[0m\u001b[1;33m{\u001b[0m\u001b[0maxis_name\u001b[0m\u001b[1;33m:\u001b[0m \u001b[0mnew_axis\u001b[0m\u001b[1;33m}\u001b[0m\u001b[1;33m)\u001b[0m\u001b[1;33m\u001b[0m\u001b[0m\n\u001b[0m\u001b[0;32m   1813\u001b[0m \u001b[1;33m\u001b[0m\u001b[0m\n\u001b[0;32m   1814\u001b[0m     def reindex_like(self, other, method=None, copy=True, limit=None,\n",
      "\u001b[1;32mC:\\Users\\alvaro.joao.silvino\\AppData\\Local\\Continuum\\Anaconda2\\lib\\site-packages\\pandas\\core\\frame.pyc\u001b[0m in \u001b[0;36mreindex\u001b[1;34m(self, index, columns, **kwargs)\u001b[0m\n\u001b[0;32m   2739\u001b[0m     \u001b[1;32mdef\u001b[0m \u001b[0mreindex\u001b[0m\u001b[1;33m(\u001b[0m\u001b[0mself\u001b[0m\u001b[1;33m,\u001b[0m \u001b[0mindex\u001b[0m\u001b[1;33m=\u001b[0m\u001b[0mNone\u001b[0m\u001b[1;33m,\u001b[0m \u001b[0mcolumns\u001b[0m\u001b[1;33m=\u001b[0m\u001b[0mNone\u001b[0m\u001b[1;33m,\u001b[0m \u001b[1;33m**\u001b[0m\u001b[0mkwargs\u001b[0m\u001b[1;33m)\u001b[0m\u001b[1;33m:\u001b[0m\u001b[1;33m\u001b[0m\u001b[0m\n\u001b[0;32m   2740\u001b[0m         return super(DataFrame, self).reindex(index=index, columns=columns,\n\u001b[1;32m-> 2741\u001b[1;33m                                               **kwargs)\n\u001b[0m\u001b[0;32m   2742\u001b[0m \u001b[1;33m\u001b[0m\u001b[0m\n\u001b[0;32m   2743\u001b[0m     \u001b[1;33m@\u001b[0m\u001b[0mAppender\u001b[0m\u001b[1;33m(\u001b[0m\u001b[0m_shared_docs\u001b[0m\u001b[1;33m[\u001b[0m\u001b[1;34m'reindex_axis'\u001b[0m\u001b[1;33m]\u001b[0m \u001b[1;33m%\u001b[0m \u001b[0m_shared_doc_kwargs\u001b[0m\u001b[1;33m)\u001b[0m\u001b[1;33m\u001b[0m\u001b[0m\n",
      "\u001b[1;32mC:\\Users\\alvaro.joao.silvino\\AppData\\Local\\Continuum\\Anaconda2\\lib\\site-packages\\pandas\\core\\generic.pyc\u001b[0m in \u001b[0;36mreindex\u001b[1;34m(self, *args, **kwargs)\u001b[0m\n\u001b[0;32m   2227\u001b[0m         \u001b[1;31m# perform the reindex on the axes\u001b[0m\u001b[1;33m\u001b[0m\u001b[1;33m\u001b[0m\u001b[0m\n\u001b[0;32m   2228\u001b[0m         return self._reindex_axes(axes, level, limit, tolerance, method,\n\u001b[1;32m-> 2229\u001b[1;33m                                   fill_value, copy).__finalize__(self)\n\u001b[0m\u001b[0;32m   2230\u001b[0m \u001b[1;33m\u001b[0m\u001b[0m\n\u001b[0;32m   2231\u001b[0m     def _reindex_axes(self, axes, level, limit, tolerance, method, fill_value,\n",
      "\u001b[1;32mC:\\Users\\alvaro.joao.silvino\\AppData\\Local\\Continuum\\Anaconda2\\lib\\site-packages\\pandas\\core\\frame.pyc\u001b[0m in \u001b[0;36m_reindex_axes\u001b[1;34m(self, axes, level, limit, tolerance, method, fill_value, copy)\u001b[0m\n\u001b[0;32m   2680\u001b[0m         \u001b[1;32mif\u001b[0m \u001b[0mcolumns\u001b[0m \u001b[1;32mis\u001b[0m \u001b[1;32mnot\u001b[0m \u001b[0mNone\u001b[0m\u001b[1;33m:\u001b[0m\u001b[1;33m\u001b[0m\u001b[0m\n\u001b[0;32m   2681\u001b[0m             frame = frame._reindex_columns(columns, copy, level, fill_value,\n\u001b[1;32m-> 2682\u001b[1;33m                                            limit, tolerance)\n\u001b[0m\u001b[0;32m   2683\u001b[0m \u001b[1;33m\u001b[0m\u001b[0m\n\u001b[0;32m   2684\u001b[0m         \u001b[0mindex\u001b[0m \u001b[1;33m=\u001b[0m \u001b[0maxes\u001b[0m\u001b[1;33m[\u001b[0m\u001b[1;34m'index'\u001b[0m\u001b[1;33m]\u001b[0m\u001b[1;33m\u001b[0m\u001b[0m\n",
      "\u001b[1;32mC:\\Users\\alvaro.joao.silvino\\AppData\\Local\\Continuum\\Anaconda2\\lib\\site-packages\\pandas\\core\\frame.pyc\u001b[0m in \u001b[0;36m_reindex_columns\u001b[1;34m(self, new_columns, copy, level, fill_value, limit, tolerance)\u001b[0m\n\u001b[0;32m   2705\u001b[0m         return self._reindex_with_indexers({1: [new_columns, indexer]},\n\u001b[0;32m   2706\u001b[0m                                            \u001b[0mcopy\u001b[0m\u001b[1;33m=\u001b[0m\u001b[0mcopy\u001b[0m\u001b[1;33m,\u001b[0m \u001b[0mfill_value\u001b[0m\u001b[1;33m=\u001b[0m\u001b[0mfill_value\u001b[0m\u001b[1;33m,\u001b[0m\u001b[1;33m\u001b[0m\u001b[0m\n\u001b[1;32m-> 2707\u001b[1;33m                                            allow_dups=False)\n\u001b[0m\u001b[0;32m   2708\u001b[0m \u001b[1;33m\u001b[0m\u001b[0m\n\u001b[0;32m   2709\u001b[0m     \u001b[1;32mdef\u001b[0m \u001b[0m_reindex_multi\u001b[0m\u001b[1;33m(\u001b[0m\u001b[0mself\u001b[0m\u001b[1;33m,\u001b[0m \u001b[0maxes\u001b[0m\u001b[1;33m,\u001b[0m \u001b[0mcopy\u001b[0m\u001b[1;33m,\u001b[0m \u001b[0mfill_value\u001b[0m\u001b[1;33m)\u001b[0m\u001b[1;33m:\u001b[0m\u001b[1;33m\u001b[0m\u001b[0m\n",
      "\u001b[1;32mC:\\Users\\alvaro.joao.silvino\\AppData\\Local\\Continuum\\Anaconda2\\lib\\site-packages\\pandas\\core\\generic.pyc\u001b[0m in \u001b[0;36m_reindex_with_indexers\u001b[1;34m(self, reindexers, fill_value, copy, allow_dups)\u001b[0m\n\u001b[0;32m   2339\u001b[0m                                                 \u001b[0mfill_value\u001b[0m\u001b[1;33m=\u001b[0m\u001b[0mfill_value\u001b[0m\u001b[1;33m,\u001b[0m\u001b[1;33m\u001b[0m\u001b[0m\n\u001b[0;32m   2340\u001b[0m                                                 \u001b[0mallow_dups\u001b[0m\u001b[1;33m=\u001b[0m\u001b[0mallow_dups\u001b[0m\u001b[1;33m,\u001b[0m\u001b[1;33m\u001b[0m\u001b[0m\n\u001b[1;32m-> 2341\u001b[1;33m                                                 copy=copy)\n\u001b[0m\u001b[0;32m   2342\u001b[0m \u001b[1;33m\u001b[0m\u001b[0m\n\u001b[0;32m   2343\u001b[0m         \u001b[1;32mif\u001b[0m \u001b[0mcopy\u001b[0m \u001b[1;32mand\u001b[0m \u001b[0mnew_data\u001b[0m \u001b[1;32mis\u001b[0m \u001b[0mself\u001b[0m\u001b[1;33m.\u001b[0m\u001b[0m_data\u001b[0m\u001b[1;33m:\u001b[0m\u001b[1;33m\u001b[0m\u001b[0m\n",
      "\u001b[1;32mC:\\Users\\alvaro.joao.silvino\\AppData\\Local\\Continuum\\Anaconda2\\lib\\site-packages\\pandas\\core\\internals.pyc\u001b[0m in \u001b[0;36mreindex_indexer\u001b[1;34m(self, new_axis, indexer, axis, fill_value, allow_dups, copy)\u001b[0m\n\u001b[0;32m   3599\u001b[0m         \u001b[0mnew_axes\u001b[0m \u001b[1;33m=\u001b[0m \u001b[0mlist\u001b[0m\u001b[1;33m(\u001b[0m\u001b[0mself\u001b[0m\u001b[1;33m.\u001b[0m\u001b[0maxes\u001b[0m\u001b[1;33m)\u001b[0m\u001b[1;33m\u001b[0m\u001b[0m\n\u001b[0;32m   3600\u001b[0m         \u001b[0mnew_axes\u001b[0m\u001b[1;33m[\u001b[0m\u001b[0maxis\u001b[0m\u001b[1;33m]\u001b[0m \u001b[1;33m=\u001b[0m \u001b[0mnew_axis\u001b[0m\u001b[1;33m\u001b[0m\u001b[0m\n\u001b[1;32m-> 3601\u001b[1;33m         \u001b[1;32mreturn\u001b[0m \u001b[0mself\u001b[0m\u001b[1;33m.\u001b[0m\u001b[0m__class__\u001b[0m\u001b[1;33m(\u001b[0m\u001b[0mnew_blocks\u001b[0m\u001b[1;33m,\u001b[0m \u001b[0mnew_axes\u001b[0m\u001b[1;33m)\u001b[0m\u001b[1;33m\u001b[0m\u001b[0m\n\u001b[0m\u001b[0;32m   3602\u001b[0m \u001b[1;33m\u001b[0m\u001b[0m\n\u001b[0;32m   3603\u001b[0m     \u001b[1;32mdef\u001b[0m \u001b[0m_slice_take_blocks_ax0\u001b[0m\u001b[1;33m(\u001b[0m\u001b[0mself\u001b[0m\u001b[1;33m,\u001b[0m \u001b[0mslice_or_indexer\u001b[0m\u001b[1;33m,\u001b[0m \u001b[0mfill_tuple\u001b[0m\u001b[1;33m=\u001b[0m\u001b[0mNone\u001b[0m\u001b[1;33m)\u001b[0m\u001b[1;33m:\u001b[0m\u001b[1;33m\u001b[0m\u001b[0m\n",
      "\u001b[1;32mC:\\Users\\alvaro.joao.silvino\\AppData\\Local\\Continuum\\Anaconda2\\lib\\site-packages\\pandas\\core\\internals.pyc\u001b[0m in \u001b[0;36m__init__\u001b[1;34m(self, blocks, axes, do_integrity_check, fastpath)\u001b[0m\n\u001b[0;32m   2577\u001b[0m \u001b[1;33m\u001b[0m\u001b[0m\n\u001b[0;32m   2578\u001b[0m     \u001b[1;32mdef\u001b[0m \u001b[0m__init__\u001b[0m\u001b[1;33m(\u001b[0m\u001b[0mself\u001b[0m\u001b[1;33m,\u001b[0m \u001b[0mblocks\u001b[0m\u001b[1;33m,\u001b[0m \u001b[0maxes\u001b[0m\u001b[1;33m,\u001b[0m \u001b[0mdo_integrity_check\u001b[0m\u001b[1;33m=\u001b[0m\u001b[0mTrue\u001b[0m\u001b[1;33m,\u001b[0m \u001b[0mfastpath\u001b[0m\u001b[1;33m=\u001b[0m\u001b[0mTrue\u001b[0m\u001b[1;33m)\u001b[0m\u001b[1;33m:\u001b[0m\u001b[1;33m\u001b[0m\u001b[0m\n\u001b[1;32m-> 2579\u001b[1;33m         \u001b[0mself\u001b[0m\u001b[1;33m.\u001b[0m\u001b[0maxes\u001b[0m \u001b[1;33m=\u001b[0m \u001b[1;33m[\u001b[0m\u001b[0m_ensure_index\u001b[0m\u001b[1;33m(\u001b[0m\u001b[0max\u001b[0m\u001b[1;33m)\u001b[0m \u001b[1;32mfor\u001b[0m \u001b[0max\u001b[0m \u001b[1;32min\u001b[0m \u001b[0maxes\u001b[0m\u001b[1;33m]\u001b[0m\u001b[1;33m\u001b[0m\u001b[0m\n\u001b[0m\u001b[0;32m   2580\u001b[0m         \u001b[0mself\u001b[0m\u001b[1;33m.\u001b[0m\u001b[0mblocks\u001b[0m \u001b[1;33m=\u001b[0m \u001b[0mtuple\u001b[0m\u001b[1;33m(\u001b[0m\u001b[0mblocks\u001b[0m\u001b[1;33m)\u001b[0m\u001b[1;33m\u001b[0m\u001b[0m\n\u001b[0;32m   2581\u001b[0m \u001b[1;33m\u001b[0m\u001b[0m\n",
      "\u001b[1;31mKeyboardInterrupt\u001b[0m: "
     ]
    }
   ],
   "source": [
    "resulbyHacker = {}\n",
    "nHackerSimilars = 1\n",
    "for i,(hackerId,times) in enumerate(hackersIds.values):\n",
    "    similars = getNSimilars(hackersDistances,i,nHackerSimilars)\n",
    "    allChallengesBySimilars = {}\n",
    "    for indexH in similars:\n",
    "        dictOfChallengesPartial = getChallengeSubmitedByHacker(hackersDf,indexH)\n",
    "        for challengeId,value in dictOfChallengesPartial.items():\n",
    "            if not challengeId in allChallengesBySimilars:\n",
    "                allChallengesBySimilars[challengeId] = value\n",
    "            else:\n",
    "                allChallengesBySimilars[challengeId] = allChallengesBySimilars[challengeId]+ value\n",
    "    allChallengesBySimilarsOrdered = sorted(allChallengesBySimilars.items(),key=lambda x:x[1],reverse=True)\n",
    "    listOfChallengesbyUserOrdered = sorted(getChallengeSubmitedByHacker(hackersDf,i).items(),key=lambda x:x[1],reverse=True)\n",
    "    intersectChallenges,disjointChallenges = getIntersectAndDisjointChallenges(listOfChallengesbyUserOrdered,allChallengesBySimilarsOrdered)\n",
    "    resulbyChallenge[hackerId] = disjointChallenges\n"
   ]
  },
  {
   "cell_type": "code",
   "execution_count": 43,
   "metadata": {
    "collapsed": false
   },
   "outputs": [],
   "source": [
    "resulbyChallenge = {}\n",
    "nChallengeSimilars = 5\n",
    "for i,(hackerId,times) in enumerate(hackersIds.values):\n",
    "    allChallengesBySimilars = {}\n",
    "    listOfChallengesbyUser = sorted(getChallengeSubmitedByHacker(hackersDf,i).items(),key=lambda x:x[1],reverse=True)\n",
    "    lsitOfchallengesIdByUsers = [k for k,v in listOfChallengesbyUser]\n",
    "    lsitOfchallengesWeightByUsers = [v for k,v in listOfChallengesbyUser]\n",
    "    listOfIndexChallenges = getChallengesIndexByListId(challengesIds,lsitOfchallengesIdByUsers,'challenge_id')\n",
    "    for indexChallenge,weight in zip(listOfIndexChallenges,lsitOfchallengesWeightByUsers):\n",
    "        similars = getNSimilars(challengesDistances,indexChallenge,nChallengeSimilars)\n",
    "        listOfIdChallengesBylistOfIndex = getChallengesIdByListIndex(challengesIds,similars,'challenge_id')\n",
    "        for challengeId in listOfIdChallengesBylistOfIndex:\n",
    "            if not challengeId in allChallengesBySimilars:\n",
    "                allChallengesBySimilars[challengeId] = value + weight\n",
    "            else:\n",
    "                allChallengesBySimilars[challengeId] = allChallengesBySimilars[challengeId]+ value\n",
    "    allChallengesBySimilarsOrdered = sorted(allChallengesBySimilars.items(),key=lambda x:x[1],reverse=True)\n",
    "    intersectChallenges,disjointChallenges = getIntersectAndDisjointChallenges(listOfChallengesbyUser,allChallengesBySimilarsOrdered)\n",
    "    resulbyChallenge[hackerId] = disjointChallenges"
   ]
  },
  {
   "cell_type": "code",
   "execution_count": 44,
   "metadata": {
    "collapsed": false
   },
   "outputs": [
    {
     "data": {
      "text/plain": [
       "{'00004cf8b853ad0d': [('10542da18734d8d9', 161.0),\n",
       "  ('9d66e1c6d55a467c', 120.0),\n",
       "  ('f55da2e8f71e3780', 91.0),\n",
       "  ('85fc279a635f0e92', 80.0),\n",
       "  ('3acbecb454f4e9f4', 68.0),\n",
       "  ('f4961978ceb1d212', 68.0),\n",
       "  ('a30616f47c8e90f8', 65.0),\n",
       "  ('eee5f9ba016b47aa', 63.0),\n",
       "  ('32cdf8385434f0dd', 63.0),\n",
       "  ('433243ab27cc91d0', 52.0),\n",
       "  ('a1a634218917004f', 47.0),\n",
       "  ('bf0f60cb6bc59968', 46.0),\n",
       "  ('d892d2bc59892741', 38.0),\n",
       "  ('3cea4476faba1071', 35.0),\n",
       "  ('aed69059f46201b5', 35.0),\n",
       "  ('d063fb7434821570', 29.0),\n",
       "  ('803338d7e5cfb022', 29.0),\n",
       "  ('bd050ea622c35c48', 28.0),\n",
       "  ('3f7c30ee2dfe74fb', 28.0),\n",
       "  ('f981d48aa377dd23', 21.0),\n",
       "  ('bdf8771075b33c2f', 17.0),\n",
       "  ('2b51eed75e25e273', 10.0),\n",
       "  ('bd08676326a7951f', 9.0),\n",
       "  ('3ea1501e8ebd647b', 9.0),\n",
       "  ('52a1f8e122ccad1a', 7.0),\n",
       "  ('54d296a59db1bc67', 6.0),\n",
       "  ('cc437020c5a9164a', 5.0),\n",
       "  ('8af6cdc91a12dbed', 5.0),\n",
       "  ('76a423c0ff54a5eb', 5.0),\n",
       "  ('236dec13a662098a', 5.0),\n",
       "  ('6c11be05b28edd6c', 4.0),\n",
       "  ('0f8f6e1babe6b720', 4.0),\n",
       "  ('638370113f88e004', 4.0),\n",
       "  ('90662dbf3f0d00ca', 4.0),\n",
       "  ('b50b128f211ce5a9', 4.0),\n",
       "  ('9bc17bd74a519192', 3.0),\n",
       "  ('18e0a2dad5e127d6', 3.0),\n",
       "  ('893c3fc9f80377b2', 3.0),\n",
       "  ('b9b00868f25cfc34', 2.0),\n",
       "  ('1d0071ff5bf9d41a', 2.0),\n",
       "  ('64a7bb22217194fe', 2.0),\n",
       "  ('e9761b362a00960f', 2.0),\n",
       "  ('fc13509c6477c83b', 2.0),\n",
       "  ('19c9320a9c5f841c', 2.0),\n",
       "  ('7a65df7689cb75de', 1.0),\n",
       "  ('a9e66e4908fb003d', 1.0),\n",
       "  ('6d95afeb4d968b91', 1.0),\n",
       "  ('22ee6e490ead5fb3', 1.0),\n",
       "  ('1380bafc9eda55a8', 1.0),\n",
       "  ('068e1dcc0ff293b2', 1.0),\n",
       "  ('4a806ef3daf316c6', 1.0),\n",
       "  ('6f492756de813a57', 1.0),\n",
       "  ('c4938bb070adf11e', 1.0),\n",
       "  ('e7438dee86263084', 1.0),\n",
       "  ('f55f6c58bfb740f1', 1.0),\n",
       "  ('49706f3f7c7986d8', 1.0),\n",
       "  ('5def1826eacc4fbe', 1.0),\n",
       "  ('6d7b38bc199f84b8', 1.0),\n",
       "  ('fd039ea79b82e1db', 1.0),\n",
       "  ('4258057ce615b031', 1.0),\n",
       "  ('b95924b16fcde96e', 1.0),\n",
       "  ('e0296de8d82b23bd', 1.0)]}"
      ]
     },
     "execution_count": 44,
     "metadata": {},
     "output_type": "execute_result"
    }
   ],
   "source": [
    "nFromUsers = 5\n",
    "nFromChallenges = 5\n",
    "finalRecomendations = {}\n",
    "finalRecomendationsToCsv = []\n",
    "for i,(hackerId,times) in enumerate(hackersIds.values):\n",
    "    finalRecomendations[hackerId] = resulbyChallenge[hackerId][0:nFromUsers] + resulbyHacker[hackerId][0:nFromChallenges]\n",
    "    if not len(finalRecomendations[hackerId]) == 10:\n",
    "        toTen = 10-len(finalRecomendations[hackerId])\n",
    "        if len(resulbyChallenge[hackerId][nFromChallenges:])>=toTen:\n",
    "            finalRecomendations[hackerId] = finalRecomendations[hackerId] + resulbyChallenge[hackerId][nFromChallenges:nFromChallenges+toTen-1]\n",
    "        elif len(resulbyHacker[hackerId][nFromUsers:])>=toTen:\n",
    "            finalRecomendations[hackerId] = finalRecomendations[hackerId] + resulbyHacker[hackerId][nFromUsers:nFromUsers+toTen-1]\n",
    "    toArray = [hackerId] + finalRecomendations[hackerId]\n",
    "    finalRecomendationsToCsv.append(\",\".join(map(str,toArray)))\n",
    "\n",
    "    "
   ]
  },
  {
   "cell_type": "code",
   "execution_count": null,
   "metadata": {
    "collapsed": true
   },
   "outputs": [],
   "source": [
    "saveFileForSubmission(finalRecomendationsToCsv,custonFileName='submission.csv')"
   ]
  },
  {
   "cell_type": "code",
   "execution_count": null,
   "metadata": {
    "collapsed": true
   },
   "outputs": [],
   "source": []
  }
 ],
 "metadata": {
  "kernelspec": {
   "display_name": "Python 2",
   "language": "python",
   "name": "python2"
  },
  "language_info": {
   "codemirror_mode": {
    "name": "ipython",
    "version": 2
   },
   "file_extension": ".py",
   "mimetype": "text/x-python",
   "name": "python",
   "nbconvert_exporter": "python",
   "pygments_lexer": "ipython2",
   "version": "2.7.11"
  }
 },
 "nbformat": 4,
 "nbformat_minor": 0
}
